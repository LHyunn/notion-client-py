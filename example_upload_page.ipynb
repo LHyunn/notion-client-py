{
 "cells": [
  {
   "cell_type": "code",
   "execution_count": null,
   "id": "8aee9207",
   "metadata": {},
   "outputs": [],
   "source": [
    "from notion_client import NotionClient\n",
    "\n",
    "database_id = \"<YOUR_DATABASE_ID>\"  \n",
    "notion_key = \"<YOUR_INTEGRATION_KEY>\" \n",
    "notion_db = NotionClient(database_id, notion_key)"
   ]
  },
  {
   "cell_type": "code",
   "execution_count": 4,
   "id": "ec94a9ca",
   "metadata": {},
   "outputs": [
    {
     "name": "stdout",
     "output_type": "stream",
     "text": [
      "{'AUCPR': 'number',\n",
      " 'AUROC': 'number',\n",
      " 'Accuracy': 'number',\n",
      " 'Batch Size': 'select',\n",
      " 'Class Weight': 'rich_text',\n",
      " 'Dataset': 'select',\n",
      " 'F1 Score': 'number',\n",
      " 'Input Size': 'select',\n",
      " 'Learning Rate': 'number',\n",
      " 'Loss Func': 'select',\n",
      " 'Memo': 'rich_text',\n",
      " 'Model': 'title',\n",
      " 'Patience': 'number',\n",
      " 'Precision': 'number',\n",
      " 'Recall': 'number',\n",
      " 'Threshold': 'number',\n",
      " '상태': 'status',\n",
      " '실행 일시': 'date',\n",
      " '테스트 일시': 'created_time'}\n"
     ]
    }
   ],
   "source": [
    "notion_db.print_property_dict()"
   ]
  },
  {
   "cell_type": "code",
   "execution_count": 5,
   "id": "00941864",
   "metadata": {},
   "outputs": [
    {
     "name": "stdout",
     "output_type": "stream",
     "text": [
      "Successfully created the page in Notion.\n",
      "Successfully uploaded local file: confusion_matrix.png\n",
      "Successfully added image block for: confusion_matrix.png\n",
      "Successfully uploaded local file: metric_score_threshold_change.png\n",
      "Successfully added image block for: metric_score_threshold_change.png\n"
     ]
    },
    {
     "data": {
      "text/plain": [
       "True"
      ]
     },
     "execution_count": 5,
     "metadata": {},
     "output_type": "execute_result"
    }
   ],
   "source": [
    "\"\"\"\n",
    "{'AUCPR': 'number',\n",
    " 'AUROC': 'number',\n",
    " 'Accuracy': 'number',\n",
    " 'Batch Size': 'select',\n",
    " 'Class Weight': 'rich_text',\n",
    " 'Dataset': 'select',\n",
    " 'F1 Score': 'number',\n",
    " 'Input Size': 'select',\n",
    " 'Learning Rate': 'number',\n",
    " 'Loss Func': 'select',\n",
    " 'Memo': 'rich_text',\n",
    " 'Model': 'title',\n",
    " 'Patience': 'number',\n",
    " 'Precision': 'number',\n",
    " 'Recall': 'number',\n",
    " 'Threshold': 'number',\n",
    " '상태': 'status',\n",
    " '실행 일시': 'date',\n",
    " '테스트 일시': 'created_time'}\n",
    "\"\"\"\n",
    "\n",
    "sample_data = {\n",
    "    \"Model\": \"EfficientNetB0\",\n",
    "    \"Dataset\": \"Custom Dataset\",\n",
    "    \"Input Size\": \"224\",\n",
    "    \"Batch Size\": \"32\",\n",
    "    \"Learning Rate\": 0.001,\n",
    "    \"Loss Func\": \"Cross Entropy\",\n",
    "    \"Class Weight\": \"None\",\n",
    "    \"Patience\": 5,\n",
    "    \"AUROC\": 0.95,\n",
    "    \"AUCPR\": 0.92,\n",
    "    \"Accuracy\": 0.93,\n",
    "    \"Precision\": 0.94,\n",
    "    \"Recall\": 0.91,\n",
    "    \"F1 Score\": 0.925,\n",
    "    \"Threshold\": 0.5,\n",
    "    \"Memo\": \"Initial experiment with EfficientNetB0 on custom dataset.\",\n",
    "    \"상태\": \"Done\",\n",
    "    \"실행 일시\": notion_db.transform_date(\"20250917000001\"),\n",
    "}\n",
    "\n",
    "notion_db.create_page(sample_data, image_file_path=[\"/drive/server2/log/20250917130734/result/confusion_matrix.png\", \"/drive/server2/log/20250917142230/result/metric_score_threshold_change.png\"])"
   ]
  },
  {
   "cell_type": "code",
   "execution_count": null,
   "id": "f520fa70",
   "metadata": {},
   "outputs": [],
   "source": [
    "\n"
   ]
  }
 ],
 "metadata": {
  "kernelspec": {
   "display_name": "base",
   "language": "python",
   "name": "python3"
  },
  "language_info": {
   "codemirror_mode": {
    "name": "ipython",
    "version": 3
   },
   "file_extension": ".py",
   "mimetype": "text/x-python",
   "name": "python",
   "nbconvert_exporter": "python",
   "pygments_lexer": "ipython3",
   "version": "3.11.11"
  }
 },
 "nbformat": 4,
 "nbformat_minor": 5
}
